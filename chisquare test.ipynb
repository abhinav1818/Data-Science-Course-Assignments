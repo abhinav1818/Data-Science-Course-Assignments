{
 "cells": [
  {
   "cell_type": "code",
   "execution_count": 9,
   "id": "b40d49c4-de09-45a5-90b3-acdd0c57e7d1",
   "metadata": {},
   "outputs": [],
   "source": [
    "\n",
    "# Chi-Square Test for Independence: Device Type vs Customer Satisfaction\n",
    "\n",
    "# Steps:\n",
    "# 1. State hypotheses\n",
    "# 2. Construct contingency table\n",
    "# 3. Compute Chi-Square statistic and p-value\n",
    "# 4. Determine critical value at alpha = 0.05\n",
    "# 5. Compare statistic to critical value to draw conclusion\n",
    "# 6. Output detailed report\n",
    "\n",
    "import numpy as np\n",
    "from scipy.stats import chi2_contingency, chi2"
   ]
  },
  {
   "cell_type": "code",
   "execution_count": 7,
   "id": "452c3e4b-23a4-477e-a751-63abfcb5817b",
   "metadata": {},
   "outputs": [],
   "source": [
    "\n",
    "#step 1: State the Hypotheses\n",
    "\n",
    "# H0: Device type and customer satisfaction level are independent (no association).\n",
    "# H1: There is an association between device type and customer satisfaction level.\n"
   ]
  },
  {
   "cell_type": "code",
   "execution_count": 3,
   "id": "1d055081-15d8-464f-8f34-42b5d12121c9",
   "metadata": {},
   "outputs": [
    {
     "name": "stdout",
     "output_type": "stream",
     "text": [
      "Contingency Table:\n",
      "                  Smart Thermostat    Smart Light   Row Total\n",
      "Very Satisfied                 50             70         120\n",
      "Satisfied                      80            100         180\n",
      "Neutral                        60             90         150\n",
      "Unsatisfied                    30             50          80\n",
      "Very Unsatisfied               20             50          70\n",
      "Column Total                  240            360         600\n",
      "\n"
     ]
    }
   ],
   "source": [
    "#step 2 : Construct the contingency table\n",
    "#contingency table helps you examine the relationship between two categorical variables.\n",
    "\n",
    "satisfaction_levels = [\n",
    "    \"Very Satisfied\",\n",
    "    \"Satisfied\",\n",
    "    \"Neutral\",\n",
    "    \"Unsatisfied\",\n",
    "    \"Very Unsatisfied\"\n",
    "]\n",
    "device_types = [\"Smart Thermostat\", \"Smart Light\"]\n",
    "\n",
    "data = np.array([\n",
    "    [50, 70],   # Very Satisfied\n",
    "    [80, 100],  # Satisfied\n",
    "    [60, 90],   # Neutral\n",
    "    [30, 50],   # Unsatisfied\n",
    "    [20, 50]    # Very Unsatisfied\n",
    "])\n",
    "\n",
    "# Print contingency table with totals\n",
    "totals_by_row = data.sum(axis=1)\n",
    "totals_by_col = data.sum(axis=0)\n",
    "grand_total = data.sum()\n",
    "\n",
    "print(\"Contingency Table:\")\n",
    "print(f\"{'':<18}{device_types[0]:>15}{device_types[1]:>15}{'Row Total':>12}\")\n",
    "for idx, level in enumerate(satisfaction_levels):\n",
    "    print(f\"{level:<18}{data[idx,0]:>15}{data[idx,1]:>15}{totals_by_row[idx]:>12}\")\n",
    "print(f\"{'Column Total':<18}{totals_by_col[0]:>15}{totals_by_col[1]:>15}{grand_total:>12}\")\n",
    "print()"
   ]
  },
  {
   "cell_type": "code",
   "execution_count": 5,
   "id": "915a32b8-7e6c-482b-b6f1-03d3c7c0b736",
   "metadata": {},
   "outputs": [
    {
     "name": "stdout",
     "output_type": "stream",
     "text": [
      "Chi-Square Statistic: 5.6382\n",
      "Degrees of Freedom: 4\n",
      "P-Value: 0.2278\n"
     ]
    }
   ],
   "source": [
    "#step 3 : Compute Chi-Square statistic and p-value\n",
    "\n",
    "chi2_stat, p_value, dof, expected = chi2_contingency(data)\n",
    "\n",
    "print(f\"Chi-Square Statistic: {chi2_stat:.4f}\")\n",
    "print(f\"Degrees of Freedom: {dof}\")\n",
    "print(f\"P-Value: {p_value:.4f}\")"
   ]
  },
  {
   "cell_type": "code",
   "execution_count": 6,
   "id": "0e2c3f63-54a7-4c5c-ae8e-367b190b7e49",
   "metadata": {},
   "outputs": [
    {
     "name": "stdout",
     "output_type": "stream",
     "text": [
      "Critical Value (alpha = 0.05): 9.4877\n"
     ]
    }
   ],
   "source": [
    "#step 4:  Determine the critical value at alpha = 0.05 and with dof = 4\n",
    "a = 0.05\n",
    "critical_value = chi2.ppf(1 - a, df=dof)\n",
    "print(f\"Critical Value (alpha = {a}): {critical_value:.4f}\")"
   ]
  },
  {
   "cell_type": "code",
   "execution_count": 8,
   "id": "59c920ae-1d92-4512-b3b3-1606ce981eb7",
   "metadata": {},
   "outputs": [
    {
     "name": "stdout",
     "output_type": "stream",
     "text": [
      "\n",
      "Conclusion:\n",
      "Fail to reject the null hypothesis(H0).\n",
      "No significant association between device type and customer satisfaction.\n"
     ]
    }
   ],
   "source": [
    "# Step 5:  Decision and Conclusion\n",
    "print()\n",
    "if chi2_stat > critical_value:\n",
    "    conclusion = (\n",
    "        \"Reject the null hypothesis(H0).\\n\"\n",
    "        \"There is a significant association between device type and customer satisfaction.\"\n",
    "    )\n",
    "else:\n",
    "    conclusion = (\n",
    "        \"Fail to reject the null hypothesis(H0).\\n\"\n",
    "        \"No significant association between device type and customer satisfaction.\"\n",
    "    )\n",
    "print(\"Conclusion:\")\n",
    "print(conclusion)"
   ]
  },
  {
   "cell_type": "code",
   "execution_count": null,
   "id": "6aa125fe-34e2-4a7a-bcf0-275306252f2d",
   "metadata": {},
   "outputs": [],
   "source": []
  }
 ],
 "metadata": {
  "kernelspec": {
   "display_name": "Python 3 (ipykernel)",
   "language": "python",
   "name": "python3"
  },
  "language_info": {
   "codemirror_mode": {
    "name": "ipython",
    "version": 3
   },
   "file_extension": ".py",
   "mimetype": "text/x-python",
   "name": "python",
   "nbconvert_exporter": "python",
   "pygments_lexer": "ipython3",
   "version": "3.12.7"
  }
 },
 "nbformat": 4,
 "nbformat_minor": 5
}
