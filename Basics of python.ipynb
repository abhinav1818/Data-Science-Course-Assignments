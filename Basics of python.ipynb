{
 "cells": [
  {
   "cell_type": "code",
   "execution_count": 6,
   "id": "648c6615-a2a5-4ab7-88e1-fbcfe1ed033a",
   "metadata": {},
   "outputs": [
    {
     "name": "stdin",
     "output_type": "stream",
     "text": [
      "Enter a number:  73\n"
     ]
    },
    {
     "name": "stdout",
     "output_type": "stream",
     "text": [
      "73 is a prime number.\n"
     ]
    }
   ],
   "source": [
    "#excercise 1 - prime numbers\n",
    "\n",
    "def is_prime(n):\n",
    "    if n <= 1:\n",
    "        return False  \n",
    "    if n == 2:\n",
    "        return True   \n",
    "    if n % 2 == 0:\n",
    "        return False\n",
    "    for i in range(3, int(n ** 0.5) + 1, 2):\n",
    "        if n % i == 0:\n",
    "            return False\n",
    "    return True\n",
    "num = int(input(\"Enter a number: \"))\n",
    "\n",
    "\n",
    "if is_prime(num):\n",
    "    print(f\"{num} is a prime number.\")\n",
    "else:\n",
    "    print(f\"{num} is not a prime number.\")"
   ]
  },
  {
   "cell_type": "code",
   "execution_count": 12,
   "id": "bf99ccc7-2d62-417b-af70-25a8cbe871e2",
   "metadata": {},
   "outputs": [
    {
     "name": "stdout",
     "output_type": "stream",
     "text": [
      "What is 27 × 13?\n"
     ]
    },
    {
     "name": "stdin",
     "output_type": "stream",
     "text": [
      "Your answer:  281\n"
     ]
    },
    {
     "name": "stdout",
     "output_type": "stream",
     "text": [
      "Wrong answer. The correct answer is 351.\n"
     ]
    }
   ],
   "source": [
    "#Exercise 2: Product of Random Numbers\n",
    "\n",
    "import numpy as np\n",
    "\n",
    "def product_num():\n",
    "    \n",
    "    a, b = np.random.randint(1, 30, size=2)\n",
    "    \n",
    "   \n",
    "    print(f\"What is {a} × {b}?\")\n",
    "    try:\n",
    "        user_input = int(input(\"Your answer: \"))\n",
    "    except ValueError:\n",
    "        print(\"Please enter a valid integer.\")\n",
    "        return\n",
    "    \n",
    "    \n",
    "    correct = a * b\n",
    "    if user_input == correct:\n",
    "        print(\"Correct answer!\")\n",
    "    else:\n",
    "        print(f\"Wrong answer. The correct answer is {correct}.\")\n",
    "\n",
    "\n",
    "product_num()\n"
   ]
  },
  {
   "cell_type": "code",
   "execution_count": 11,
   "id": "39831c6f-57ff-4aa0-9141-d2d7931b7697",
   "metadata": {},
   "outputs": [
    {
     "name": "stdout",
     "output_type": "stream",
     "text": [
      "100² = 10000\n",
      "102² = 10404\n",
      "104² = 10816\n",
      "106² = 11236\n",
      "108² = 11664\n",
      "110² = 12100\n",
      "112² = 12544\n",
      "114² = 12996\n",
      "116² = 13456\n",
      "118² = 13924\n",
      "120² = 14400\n",
      "122² = 14884\n",
      "124² = 15376\n",
      "126² = 15876\n",
      "128² = 16384\n",
      "130² = 16900\n",
      "132² = 17424\n",
      "134² = 17956\n",
      "136² = 18496\n",
      "138² = 19044\n",
      "140² = 19600\n",
      "142² = 20164\n",
      "144² = 20736\n",
      "146² = 21316\n",
      "148² = 21904\n",
      "150² = 22500\n",
      "152² = 23104\n",
      "154² = 23716\n",
      "156² = 24336\n",
      "158² = 24964\n",
      "160² = 25600\n",
      "162² = 26244\n",
      "164² = 26896\n",
      "166² = 27556\n",
      "168² = 28224\n",
      "170² = 28900\n",
      "172² = 29584\n",
      "174² = 30276\n",
      "176² = 30976\n",
      "178² = 31684\n",
      "180² = 32400\n",
      "182² = 33124\n",
      "184² = 33856\n",
      "186² = 34596\n",
      "188² = 35344\n",
      "190² = 36100\n",
      "192² = 36864\n",
      "194² = 37636\n",
      "196² = 38416\n",
      "198² = 39204\n",
      "200² = 40000\n"
     ]
    }
   ],
   "source": [
    "#Exercise 3: Squares of Even/Odd Numbers\n",
    "\n",
    "def print_even_squares(a, b):\n",
    "   \n",
    "    for n in range(a, b + 1):\n",
    "        if n % 2 == 0:\n",
    "            print(f\"{n}² = {n**2}\")\n",
    "\n",
    "start = 100\n",
    "end = 200\n",
    "print_even_squares(start, end)"
   ]
  },
  {
   "cell_type": "code",
   "execution_count": 13,
   "id": "90d29975-39df-4e32-bbd5-bf333368b33b",
   "metadata": {},
   "outputs": [
    {
     "name": "stdin",
     "output_type": "stream",
     "text": [
      "Enter your text:\n",
      " This is a sample text. This text will be used to demonstrate the word counter.\n"
     ]
    },
    {
     "name": "stdout",
     "output_type": "stream",
     "text": [
      "\n",
      "Word frequencies:\n",
      "this: 2\n",
      "text: 2\n",
      "is: 1\n",
      "a: 1\n",
      "sample: 1\n",
      "will: 1\n",
      "be: 1\n",
      "used: 1\n",
      "to: 1\n",
      "demonstrate: 1\n",
      "the: 1\n",
      "word: 1\n",
      "counter: 1\n"
     ]
    }
   ],
   "source": [
    "#Exercise 4: Word counter\n",
    "\n",
    "\n",
    "import re\n",
    "from collections import Counter\n",
    "\n",
    "def count_word_frequencies(text):\n",
    "    \n",
    "    words = re.findall(r'\\b\\w+\\b', text.lower())\n",
    "    \n",
    "    freqs = Counter(words)\n",
    "    return freqs\n",
    "\n",
    "if __name__ == \"__main__\":\n",
    "    input_text = input(\"Enter your text:\\n\")\n",
    "    freqs = count_word_frequencies(input_text)\n",
    "    \n",
    "    print(\"\\nWord frequencies:\")\n",
    "    for word, count in freqs.most_common():\n",
    "        print(f\"{word}: {count}\")\n"
   ]
  },
  {
   "cell_type": "code",
   "execution_count": 16,
   "id": "f6e89102-07c3-4907-86ec-a9b9fa22870a",
   "metadata": {},
   "outputs": [
    {
     "name": "stdin",
     "output_type": "stream",
     "text": [
      "Input:  racecar\n"
     ]
    },
    {
     "data": {
      "text/plain": [
       "True"
      ]
     },
     "execution_count": 16,
     "metadata": {},
     "output_type": "execute_result"
    }
   ],
   "source": [
    "import re\n",
    "\n",
    "def is_palindrome(s: str) -> bool:\n",
    "   \n",
    "    \n",
    "    cleaned = re.sub(r'[^A-Za-z0-9]', '', s).lower()\n",
    "    \n",
    "    if(cleaned == cleaned[::-1]):\n",
    "        return True\n",
    "    else:\n",
    "        return False\n",
    "\n",
    "\n",
    "user_input = input(\"Input: \")\n",
    "is_palindrome(user_input)\n",
    "        \n"
   ]
  },
  {
   "cell_type": "code",
   "execution_count": null,
   "id": "49448e4d-8f14-4fe3-b328-eface79980ee",
   "metadata": {},
   "outputs": [],
   "source": []
  }
 ],
 "metadata": {
  "kernelspec": {
   "display_name": "Python 3 (ipykernel)",
   "language": "python",
   "name": "python3"
  },
  "language_info": {
   "codemirror_mode": {
    "name": "ipython",
    "version": 3
   },
   "file_extension": ".py",
   "mimetype": "text/x-python",
   "name": "python",
   "nbconvert_exporter": "python",
   "pygments_lexer": "ipython3",
   "version": "3.12.7"
  }
 },
 "nbformat": 4,
 "nbformat_minor": 5
}
