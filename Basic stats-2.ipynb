{
 "cells": [
  {
   "cell_type": "code",
   "execution_count": 7,
   "id": "2fecb494-71d4-4027-b93f-b6067e49f01d",
   "metadata": {},
   "outputs": [
    {
     "name": "stdout",
     "output_type": "stream",
     "text": [
      "Sample Mean: 1.2387\n",
      "Sample Standard Deviation: 0.1932\n",
      "99% CI using t-distribution (unknown Population standard deviation): ('1.09', '1.39')\n"
     ]
    }
   ],
   "source": [
    "# a. Build 99% Confidence Interval Using Sample Standard Deviation\n",
    "#Poplation Standard Deviation unknown\n",
    "\n",
    "import numpy as np\n",
    "from scipy import stats\n",
    "\n",
    "values = [1.13, 1.55, 1.43, 0.92, 1.25, 1.36, 1.32, 0.85, 1.07, \n",
    "              1.48, 1.20, 1.33, 1.18, 1.22, 1.29]\n",
    "\n",
    "# Sample size\n",
    "n = len(values)\n",
    "\n",
    "mean = np.mean(values)\n",
    "\n",
    "s = np.std(values, ddof=1)\n",
    "#ddof = 1 beacause it calculates Sample SD\n",
    "\n",
    "confidence_level = 0.99\n",
    "alpha = 1 - confidence_level\n",
    "df = n - 1\n",
    "t_critical = stats.t.ppf(1 - alpha/2, df)\n",
    "margin_error_t = t_critical * (s / np.sqrt(n))\n",
    "ci_t = (mean - margin_error_t, mean + margin_error_t)\n",
    "formatted = tuple(f\"{x:.2f}\" for x in ci_t)\n",
    "\n",
    "print(f\"Sample Mean: {mean:.4f}\")\n",
    "print(f\"Sample Standard Deviation: {s:.4f}\")\n",
    "print(f\"99% CI using t-distribution (unknown Population standard deviation): {formatted}\")\n"
   ]
  },
  {
   "cell_type": "code",
   "execution_count": null,
   "id": "8af6bbf0-a1d7-4b94-991b-be2988672884",
   "metadata": {},
   "outputs": [],
   "source": [
    "#steps to build 99% Confidence Interval Using Sample Standard Deviation\n",
    "\n",
    "1. First step is to calculate the Sample mean of given values\n",
    "2. Next is to calculate sample standard deviation using degrees of freedom (np.std(values, ddof=1))\n",
    "3. Calculated the level of significance and degrees of freedom\n",
    "4. Next step is to calculate t-critical value using degreees of freedom and level of significance values\n",
    "5. After that i had computed the margin error value\n",
    "6. Finally constructed the Confidence Interval\n",
    "\n",
    "#the rationale behind using the t-distribution for this task.\n",
    "\n",
    "1. we should use t-distribution because the durability(n) is less that 30.\n",
    "2. And when population standard deviation is unknown we should use t-distribution\n",
    "\n"
   ]
  },
  {
   "cell_type": "code",
   "execution_count": 9,
   "id": "9ecef1d8-b5a6-4ed1-bc2c-35118d7f6a5c",
   "metadata": {},
   "outputs": [
    {
     "name": "stdout",
     "output_type": "stream",
     "text": [
      "99% CI using z-distribution (known population sd  = 0.2): ('1.11', '1.37')\n"
     ]
    }
   ],
   "source": [
    "# b. Build 99% Confidence Interval Using Known Population Standard Deviation\n",
    "sigma = 0.2  # Known population standard deviation\n",
    "z_critical = stats.norm.ppf(1 - alpha/2)\n",
    "\n",
    "\n",
    "margin_error_z = z_critical * (sigma / np.sqrt(n))\n",
    "\n",
    "ci_z = (mean - margin_error_z, mean + margin_error_z)\n",
    "formatted = tuple(f\"{x:.2f}\" for x in ci_z)\n",
    "\n",
    "print(f\"99% CI using z-distribution (known population sd  = 0.2): {formatted}\")\n",
    "\n"
   ]
  },
  {
   "cell_type": "code",
   "execution_count": null,
   "id": "ec692926-c204-463c-ab89-c019fa4eb9e7",
   "metadata": {},
   "outputs": [],
   "source": []
  }
 ],
 "metadata": {
  "kernelspec": {
   "display_name": "Python 3 (ipykernel)",
   "language": "python",
   "name": "python3"
  },
  "language_info": {
   "codemirror_mode": {
    "name": "ipython",
    "version": 3
   },
   "file_extension": ".py",
   "mimetype": "text/x-python",
   "name": "python",
   "nbconvert_exporter": "python",
   "pygments_lexer": "ipython3",
   "version": "3.12.7"
  }
 },
 "nbformat": 4,
 "nbformat_minor": 5
}
