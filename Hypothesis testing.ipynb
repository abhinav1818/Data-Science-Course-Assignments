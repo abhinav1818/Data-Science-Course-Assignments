{
 "cells": [
  {
   "cell_type": "code",
   "execution_count": 3,
   "id": "8948ed5b-24f0-43a2-812d-89f24a1b5021",
   "metadata": {},
   "outputs": [],
   "source": [
    "# Hypothesis Testing for Weekly Operating Costs\n",
    "\n",
    "import math\n",
    "from scipy.stats import norm"
   ]
  },
  {
   "cell_type": "code",
   "execution_count": 4,
   "id": "b0b9303c-bd8b-4d3b-ae7d-5252539cf5a6",
   "metadata": {},
   "outputs": [],
   "source": [
    "# Step 1: State the Hypotheses\n",
    "# H0 (Null Hypothesis): The weekly operating cost follows the model, i.e., mean = 1000 + 5*600 = 4000\n",
    "# H1 (Alternative Hypothesis): The weekly operating cost is higher than the model, i.e., mean > 4000"
   ]
  },
  {
   "cell_type": "code",
   "execution_count": 6,
   "id": "aa1bed9f-3951-4a6f-9bbc-dbcc335caba7",
   "metadata": {},
   "outputs": [
    {
     "name": "stdout",
     "output_type": "stream",
     "text": [
      "Test Statistic (Z): -38.0\n"
     ]
    }
   ],
   "source": [
    "# Step 2: Calculate the Test Statistic\n",
    "sample_mean = 3050  # Rs.\n",
    "theoretical_mean = 1000 + 5 * 600  # Rs. 4000\n",
    "std_dev_x = 25\n",
    "sigma = 5 * std_dev_x  # Standard deviation of cost\n",
    "n = 25  # sample size\n",
    "\n",
    "# Standard error of the mean\n",
    "standard_error = sigma / math.sqrt(n)\n",
    "\n",
    "# Test statistic (Z-score since sigma is known)\n",
    "z = (sample_mean - theoretical_mean) / standard_error\n",
    "print(\"Test Statistic (Z):\", z)"
   ]
  },
  {
   "cell_type": "code",
   "execution_count": 7,
   "id": "2df38453-74bb-44f3-9277-5fc2c080cedd",
   "metadata": {},
   "outputs": [
    {
     "name": "stdout",
     "output_type": "stream",
     "text": [
      "Critical Value: 1.6448536269514722\n"
     ]
    }
   ],
   "source": [
    "# Step 3: Determine the Critical Value\n",
    "alpha = 0.05\n",
    "critical_value = norm.ppf(1 - alpha)  # One-tailed test\n",
    "\n",
    "print(\"Critical Value:\", critical_value)"
   ]
  },
  {
   "cell_type": "code",
   "execution_count": 8,
   "id": "7a6fea28-8ce0-4d45-917c-ca55a213d48d",
   "metadata": {},
   "outputs": [
    {
     "name": "stdout",
     "output_type": "stream",
     "text": [
      "Decision: Fail to reject the null hypothesis(H0)\n"
     ]
    }
   ],
   "source": [
    "# Step 4: Make a Decision\n",
    "if z > critical_value:\n",
    "    decision = \"Reject the null hypothesis(H0)\"\n",
    "else:\n",
    "    decision = \"Fail to reject the null hypothesis(H0)\"\n",
    "\n",
    "print(\"Decision:\", decision)"
   ]
  },
  {
   "cell_type": "code",
   "execution_count": 10,
   "id": "8d3e461b-b038-42ee-bfd9-6df649c0c56d",
   "metadata": {},
   "outputs": [
    {
     "name": "stdout",
     "output_type": "stream",
     "text": [
      "Conclusion: There is no strong evidence to support the claim that the weekly operating costs are higher than the model suggests.\n"
     ]
    }
   ],
   "source": [
    "# Step 5: Conclusion\n",
    "if decision == \"Reject the null hypothesis\":\n",
    "    conclusion = \"There is strong evidence to support the claim that the weekly operating costs are higher than the model suggests.\"\n",
    "else:\n",
    "    conclusion = \"There is no strong evidence to support the claim that the weekly operating costs are higher than the model suggests.\"\n",
    "\n",
    "# Output the results\n",
    "\n",
    "\n",
    "\n",
    "print(\"Conclusion:\", conclusion)"
   ]
  },
  {
   "cell_type": "code",
   "execution_count": null,
   "id": "b15b4400-2f95-4463-af99-22d7a1ca73ed",
   "metadata": {},
   "outputs": [],
   "source": []
  }
 ],
 "metadata": {
  "kernelspec": {
   "display_name": "Python 3 (ipykernel)",
   "language": "python",
   "name": "python3"
  },
  "language_info": {
   "codemirror_mode": {
    "name": "ipython",
    "version": 3
   },
   "file_extension": ".py",
   "mimetype": "text/x-python",
   "name": "python",
   "nbconvert_exporter": "python",
   "pygments_lexer": "ipython3",
   "version": "3.12.7"
  }
 },
 "nbformat": 4,
 "nbformat_minor": 5
}
